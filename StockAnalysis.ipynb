{
  "nbformat": 4,
  "nbformat_minor": 0,
  "metadata": {
    "colab": {
      "name": "StockAnalysis.ipynb",
      "provenance": [],
      "toc_visible": true
    },
    "kernelspec": {
      "name": "python3",
      "display_name": "Python 3"
    },
    "language_info": {
      "name": "python"
    }
  },
  "cells": [
    {
      "cell_type": "markdown",
      "metadata": {
        "id": "jBifedGsuuKI"
      },
      "source": [
        "# **Project Idea:**\n",
        "The main project idea is to carry out **Analysis of Stock Prices** for some of the largest banks in **Mainland China** listed on the **Hong Kong Stock Exchange (HKEX)**, and trying to figure out various strategies based on available historical data on these prices and implement statistical models and try to tell a story surrounding this data as well as aim to learn more about the volatility of the market and so, how accurate our predictive modeling power would be based on our available historical data."
      ]
    },
    {
      "cell_type": "markdown",
      "metadata": {
        "id": "K-MmHUWGwWO_"
      },
      "source": [
        "# **Historical Data Collection:**\n",
        "Owned by Verizon Media, Yahoo! Finance is a part of the Yahoo! network. It aids in providing financial news and data like stock prices listings, reports, press releases, and other unique and important sources of news and data outputs. \n",
        "<br/> However, Yahoo! Finance has long since decomissioned their historical data API. So, we shall be using the Python package ```yfinance``` to help us get our historical data for relevant stocks listed on the HKEX.\n",
        "We can install the package on Google Colaboratory using ```!pip install yfinance```. So, now we install the package for our usage.\n",
        "\n",
        "\n"
      ]
    },
    {
      "cell_type": "code",
      "metadata": {
        "colab": {
          "base_uri": "https://localhost:8080/"
        },
        "id": "IKOqiuYcyESc",
        "outputId": "ab875dc9-9956-4421-c5ef-238ac4ba16e7"
      },
      "source": [
        "!pip install yfinance"
      ],
      "execution_count": 1,
      "outputs": [
        {
          "output_type": "stream",
          "text": [
            "Collecting yfinance\n",
            "  Downloading https://files.pythonhosted.org/packages/a7/ee/315752b9ef281ba83c62aa7ec2e2074f85223da6e7e74efb4d3e11c0f510/yfinance-0.1.59.tar.gz\n",
            "Requirement already satisfied: pandas>=0.24 in /usr/local/lib/python3.7/dist-packages (from yfinance) (1.1.5)\n",
            "Requirement already satisfied: numpy>=1.15 in /usr/local/lib/python3.7/dist-packages (from yfinance) (1.19.5)\n",
            "Requirement already satisfied: requests>=2.20 in /usr/local/lib/python3.7/dist-packages (from yfinance) (2.23.0)\n",
            "Requirement already satisfied: multitasking>=0.0.7 in /usr/local/lib/python3.7/dist-packages (from yfinance) (0.0.9)\n",
            "Collecting lxml>=4.5.1\n",
            "\u001b[?25l  Downloading https://files.pythonhosted.org/packages/30/c0/d0526314971fc661b083ab135747dc68446a3022686da8c16d25fcf6ef07/lxml-4.6.3-cp37-cp37m-manylinux2014_x86_64.whl (6.3MB)\n",
            "\u001b[K     |████████████████████████████████| 6.3MB 10.2MB/s \n",
            "\u001b[?25hRequirement already satisfied: python-dateutil>=2.7.3 in /usr/local/lib/python3.7/dist-packages (from pandas>=0.24->yfinance) (2.8.1)\n",
            "Requirement already satisfied: pytz>=2017.2 in /usr/local/lib/python3.7/dist-packages (from pandas>=0.24->yfinance) (2018.9)\n",
            "Requirement already satisfied: urllib3!=1.25.0,!=1.25.1,<1.26,>=1.21.1 in /usr/local/lib/python3.7/dist-packages (from requests>=2.20->yfinance) (1.24.3)\n",
            "Requirement already satisfied: certifi>=2017.4.17 in /usr/local/lib/python3.7/dist-packages (from requests>=2.20->yfinance) (2020.12.5)\n",
            "Requirement already satisfied: idna<3,>=2.5 in /usr/local/lib/python3.7/dist-packages (from requests>=2.20->yfinance) (2.10)\n",
            "Requirement already satisfied: chardet<4,>=3.0.2 in /usr/local/lib/python3.7/dist-packages (from requests>=2.20->yfinance) (3.0.4)\n",
            "Requirement already satisfied: six>=1.5 in /usr/local/lib/python3.7/dist-packages (from python-dateutil>=2.7.3->pandas>=0.24->yfinance) (1.15.0)\n",
            "Building wheels for collected packages: yfinance\n",
            "  Building wheel for yfinance (setup.py) ... \u001b[?25l\u001b[?25hdone\n",
            "  Created wheel for yfinance: filename=yfinance-0.1.59-py2.py3-none-any.whl size=23455 sha256=ac102b07039f1b1f00bde3dbdc4ff06b6cc697fd4923873700b96f55283dc3c9\n",
            "  Stored in directory: /root/.cache/pip/wheels/f8/2a/0f/4b5a86e1d52e451757eb6bc17fd899629f0925c777741b6d04\n",
            "Successfully built yfinance\n",
            "Installing collected packages: lxml, yfinance\n",
            "  Found existing installation: lxml 4.2.6\n",
            "    Uninstalling lxml-4.2.6:\n",
            "      Successfully uninstalled lxml-4.2.6\n",
            "Successfully installed lxml-4.6.3 yfinance-0.1.59\n"
          ],
          "name": "stdout"
        }
      ]
    },
    {
      "cell_type": "markdown",
      "metadata": {
        "id": "nbb-d0kXyZqG"
      },
      "source": [
        "## **Importing the Package:**\n",
        "So, now we import the package for our usage and implement the ```Ticker``` module for the stocks we need and require for further indepth analysis.\n"
      ]
    },
    {
      "cell_type": "code",
      "metadata": {
        "id": "ymi46P9ny7zL"
      },
      "source": [
        "import yfinance as yf"
      ],
      "execution_count": 2,
      "outputs": []
    },
    {
      "cell_type": "markdown",
      "metadata": {
        "id": "ggDvVIQszFp3"
      },
      "source": [
        "## **Implementation of the Ticker Module:**\n",
        "We now implement the ```Ticker``` module to access the Ticker data for the listed stocks in HKEX. In depth, we look at the following institutions or banks:\n",
        "<br/>\n",
        "<br/>1. **Industrial and Commercial Bank of China (ICBC)**  [1398.HK]\n",
        "<br/>2. **China Construction Bank (CCB)** [0939.HK]\n",
        "<br/>3. **Agricultural Bank of China (ABC)** [1288.HK]\n",
        "<br/>4. **Bank of China (BOC)** [3988.HK]\n",
        "<br/>5. **China Development Bank (CDB)** [1062.HK]\n",
        "<br/>6. **Postal Savings Bank of China (PSBC)** [1658.HK]\n",
        "<br/>7. **Bank of Communications (BOCom)** [3329.HK]\n",
        "<br/>8. **China Merchants Bank (CMB)** [3968.HK]\n",
        "<br/>"
      ]
    },
    {
      "cell_type": "code",
      "metadata": {
        "id": "s3b6AdYCzk1C"
      },
      "source": [
        "icbc = yf.Ticker('1398.HK')\n",
        "ccb = yf.Ticker('0939.HK')\n",
        "abc = yf.Ticker('1288.HK')\n",
        "boc = yf.Ticker('3988.HK')\n",
        "cdb = yf.Ticker('1062.HK')\n",
        "psbc = yf.Ticker('1658.HK')\n",
        "bocom = yf.Ticker('3329.HK')\n",
        "cmb = yf.Ticker('3968.HK')"
      ],
      "execution_count": 3,
      "outputs": []
    },
    {
      "cell_type": "markdown",
      "metadata": {
        "id": "8k70I8fqbRjy"
      },
      "source": [
        "## **Getting the Historical Data:**\n",
        "Using our 8 Tickers, we get past 10 years' historical data for the above 8 institutions and banks.\n",
        "\n"
      ]
    },
    {
      "cell_type": "code",
      "metadata": {
        "id": "lFT5feGubmpW"
      },
      "source": [
        "icbc_data = icbc.history(period = '10y')\n",
        "ccb_data = ccb.history(period = '10y')\n",
        "abc_data = abc.history(period = '10y')\n",
        "boc_data = boc.history(period = '10y')\n",
        "cdb_data = cdb.history(period = '10y')\n",
        "psbc_data = psbc.history(period = '10y')\n",
        "bocom_data = bocom.history(period = '10y')\n",
        "cmb_data = cmb.history(period = '10y')"
      ],
      "execution_count": 4,
      "outputs": []
    },
    {
      "cell_type": "markdown",
      "metadata": {
        "id": "dvqQABO2bxEK"
      },
      "source": [
        "## **Gauging the Ticker Data:**\n",
        "We tried to find the info from our Tickers."
      ]
    },
    {
      "cell_type": "code",
      "metadata": {
        "colab": {
          "base_uri": "https://localhost:8080/"
        },
        "id": "lqguB_Nfb9mQ",
        "outputId": "7ee0a57c-8d9f-4133-855b-eaedd05a506d"
      },
      "source": [
        "icbc_data.info()"
      ],
      "execution_count": 6,
      "outputs": [
        {
          "output_type": "stream",
          "text": [
            "<class 'pandas.core.frame.DataFrame'>\n",
            "DatetimeIndex: 2465 entries, 2011-06-07 to 2021-06-07\n",
            "Data columns (total 7 columns):\n",
            " #   Column        Non-Null Count  Dtype  \n",
            "---  ------        --------------  -----  \n",
            " 0   Open          2465 non-null   float64\n",
            " 1   High          2465 non-null   float64\n",
            " 2   Low           2465 non-null   float64\n",
            " 3   Close         2465 non-null   float64\n",
            " 4   Volume        2465 non-null   int64  \n",
            " 5   Dividends     2465 non-null   float64\n",
            " 6   Stock Splits  2465 non-null   int64  \n",
            "dtypes: float64(5), int64(2)\n",
            "memory usage: 154.1 KB\n"
          ],
          "name": "stdout"
        }
      ]
    },
    {
      "cell_type": "code",
      "metadata": {
        "colab": {
          "base_uri": "https://localhost:8080/"
        },
        "id": "qpbp9nUGb_Ej",
        "outputId": "47b252c1-958e-4fb6-9d5e-666fc9780b42"
      },
      "source": [
        "ccb_data.info()"
      ],
      "execution_count": 7,
      "outputs": [
        {
          "output_type": "stream",
          "text": [
            "<class 'pandas.core.frame.DataFrame'>\n",
            "DatetimeIndex: 2465 entries, 2011-06-07 to 2021-06-07\n",
            "Data columns (total 7 columns):\n",
            " #   Column        Non-Null Count  Dtype  \n",
            "---  ------        --------------  -----  \n",
            " 0   Open          2465 non-null   float64\n",
            " 1   High          2465 non-null   float64\n",
            " 2   Low           2465 non-null   float64\n",
            " 3   Close         2465 non-null   float64\n",
            " 4   Volume        2465 non-null   int64  \n",
            " 5   Dividends     2465 non-null   float64\n",
            " 6   Stock Splits  2465 non-null   int64  \n",
            "dtypes: float64(5), int64(2)\n",
            "memory usage: 154.1 KB\n"
          ],
          "name": "stdout"
        }
      ]
    },
    {
      "cell_type": "code",
      "metadata": {
        "colab": {
          "base_uri": "https://localhost:8080/"
        },
        "id": "IUPArJ9FcHmW",
        "outputId": "3d613536-a706-4ccb-a7b4-7de5ad21cca0"
      },
      "source": [
        "abc_data.info()"
      ],
      "execution_count": 8,
      "outputs": [
        {
          "output_type": "stream",
          "text": [
            "<class 'pandas.core.frame.DataFrame'>\n",
            "DatetimeIndex: 2465 entries, 2011-06-07 to 2021-06-07\n",
            "Data columns (total 7 columns):\n",
            " #   Column        Non-Null Count  Dtype  \n",
            "---  ------        --------------  -----  \n",
            " 0   Open          2465 non-null   float64\n",
            " 1   High          2465 non-null   float64\n",
            " 2   Low           2465 non-null   float64\n",
            " 3   Close         2465 non-null   float64\n",
            " 4   Volume        2465 non-null   int64  \n",
            " 5   Dividends     2465 non-null   float64\n",
            " 6   Stock Splits  2465 non-null   int64  \n",
            "dtypes: float64(5), int64(2)\n",
            "memory usage: 154.1 KB\n"
          ],
          "name": "stdout"
        }
      ]
    },
    {
      "cell_type": "code",
      "metadata": {
        "colab": {
          "base_uri": "https://localhost:8080/"
        },
        "id": "yw6zKUajcKqv",
        "outputId": "d7bc07ab-391a-4537-9396-9498f2fe2cf2"
      },
      "source": [
        "boc_data.info()"
      ],
      "execution_count": 9,
      "outputs": [
        {
          "output_type": "stream",
          "text": [
            "<class 'pandas.core.frame.DataFrame'>\n",
            "DatetimeIndex: 2465 entries, 2011-06-07 to 2021-06-07\n",
            "Data columns (total 7 columns):\n",
            " #   Column        Non-Null Count  Dtype  \n",
            "---  ------        --------------  -----  \n",
            " 0   Open          2465 non-null   float64\n",
            " 1   High          2465 non-null   float64\n",
            " 2   Low           2465 non-null   float64\n",
            " 3   Close         2465 non-null   float64\n",
            " 4   Volume        2465 non-null   int64  \n",
            " 5   Dividends     2465 non-null   float64\n",
            " 6   Stock Splits  2465 non-null   int64  \n",
            "dtypes: float64(5), int64(2)\n",
            "memory usage: 154.1 KB\n"
          ],
          "name": "stdout"
        }
      ]
    },
    {
      "cell_type": "code",
      "metadata": {
        "colab": {
          "base_uri": "https://localhost:8080/"
        },
        "id": "uROhJWwrcMtU",
        "outputId": "39fbdc37-5697-477d-f738-4b39825b57e1"
      },
      "source": [
        "cdb_data.info()"
      ],
      "execution_count": 10,
      "outputs": [
        {
          "output_type": "stream",
          "text": [
            "<class 'pandas.core.frame.DataFrame'>\n",
            "DatetimeIndex: 2465 entries, 2011-06-07 to 2021-06-07\n",
            "Data columns (total 7 columns):\n",
            " #   Column        Non-Null Count  Dtype  \n",
            "---  ------        --------------  -----  \n",
            " 0   Open          2465 non-null   float64\n",
            " 1   High          2465 non-null   float64\n",
            " 2   Low           2465 non-null   float64\n",
            " 3   Close         2465 non-null   float64\n",
            " 4   Volume        2465 non-null   int64  \n",
            " 5   Dividends     2465 non-null   int64  \n",
            " 6   Stock Splits  2465 non-null   int64  \n",
            "dtypes: float64(4), int64(3)\n",
            "memory usage: 154.1 KB\n"
          ],
          "name": "stdout"
        }
      ]
    },
    {
      "cell_type": "code",
      "metadata": {
        "colab": {
          "base_uri": "https://localhost:8080/"
        },
        "id": "KAHrL3vZcPe6",
        "outputId": "308f35e5-76de-49f6-c1b1-56938b9ce5b2"
      },
      "source": [
        "psbc_data.info()"
      ],
      "execution_count": 11,
      "outputs": [
        {
          "output_type": "stream",
          "text": [
            "<class 'pandas.core.frame.DataFrame'>\n",
            "DatetimeIndex: 1157 entries, 2016-09-28 to 2021-06-07\n",
            "Data columns (total 7 columns):\n",
            " #   Column        Non-Null Count  Dtype  \n",
            "---  ------        --------------  -----  \n",
            " 0   Open          1157 non-null   float64\n",
            " 1   High          1157 non-null   float64\n",
            " 2   Low           1157 non-null   float64\n",
            " 3   Close         1157 non-null   float64\n",
            " 4   Volume        1157 non-null   int64  \n",
            " 5   Dividends     1157 non-null   float64\n",
            " 6   Stock Splits  1157 non-null   int64  \n",
            "dtypes: float64(5), int64(2)\n",
            "memory usage: 72.3 KB\n"
          ],
          "name": "stdout"
        }
      ]
    },
    {
      "cell_type": "code",
      "metadata": {
        "colab": {
          "base_uri": "https://localhost:8080/"
        },
        "id": "chapsKN8cTwh",
        "outputId": "994231d0-676d-4e1c-d18d-dc1ff7769eb4"
      },
      "source": [
        "bocom_data.info()"
      ],
      "execution_count": 12,
      "outputs": [
        {
          "output_type": "stream",
          "text": [
            "<class 'pandas.core.frame.DataFrame'>\n",
            "DatetimeIndex: 1001 entries, 2017-05-19 to 2021-06-07\n",
            "Data columns (total 7 columns):\n",
            " #   Column        Non-Null Count  Dtype  \n",
            "---  ------        --------------  -----  \n",
            " 0   Open          1001 non-null   float64\n",
            " 1   High          1001 non-null   float64\n",
            " 2   Low           1001 non-null   float64\n",
            " 3   Close         1001 non-null   float64\n",
            " 4   Volume        1001 non-null   int64  \n",
            " 5   Dividends     1001 non-null   float64\n",
            " 6   Stock Splits  1001 non-null   int64  \n",
            "dtypes: float64(5), int64(2)\n",
            "memory usage: 62.6 KB\n"
          ],
          "name": "stdout"
        }
      ]
    },
    {
      "cell_type": "code",
      "metadata": {
        "colab": {
          "base_uri": "https://localhost:8080/"
        },
        "id": "3zRydxa2cXWy",
        "outputId": "96a90a6b-fe28-457b-e3a6-d60a7f88140f"
      },
      "source": [
        "cmb_data.info()"
      ],
      "execution_count": 13,
      "outputs": [
        {
          "output_type": "stream",
          "text": [
            "<class 'pandas.core.frame.DataFrame'>\n",
            "DatetimeIndex: 2465 entries, 2011-06-07 to 2021-06-07\n",
            "Data columns (total 7 columns):\n",
            " #   Column        Non-Null Count  Dtype  \n",
            "---  ------        --------------  -----  \n",
            " 0   Open          2465 non-null   float64\n",
            " 1   High          2465 non-null   float64\n",
            " 2   Low           2465 non-null   float64\n",
            " 3   Close         2465 non-null   float64\n",
            " 4   Volume        2465 non-null   int64  \n",
            " 5   Dividends     2465 non-null   float64\n",
            " 6   Stock Splits  2465 non-null   int64  \n",
            "dtypes: float64(5), int64(2)\n",
            "memory usage: 154.1 KB\n"
          ],
          "name": "stdout"
        }
      ]
    },
    {
      "cell_type": "markdown",
      "metadata": {
        "id": "3O8kMeimccW_"
      },
      "source": [
        "## **Takeaway from Ticker info() Data and further Data Cleaning:**\n",
        "We can conclude from the ```info()``` function and the given ```DatatimeIndex``` that we are expecting a **total of 2465 days of data accumulated for the last 10 years**.\n",
        "<br/>However, not all of the banks have enough historical data on ```yfinance``` for the past 10 years. So, we just select the ones for further analysis which provide us with the ample data of 10 full years or 2465 market days.\n",
        "<br/>Hence, the list of banks after discarding the ones with insufficient data are:\n",
        "<br/>\n",
        "<br/>1. **Industrial and Commercial Bank of China (ICBC)**  [1398.HK]\n",
        "<br/>2. **China Construction Bank (CCB)** [0939.HK]\n",
        "<br/>3. **Agricultural Bank of China (ABC)** [1288.HK]\n",
        "<br/>4. **Bank of China (BOC)** [3988.HK]\n",
        "<br/>5. **China Development Bank (CDB)** [1062.HK]\n",
        "<br/>6. **China Merchants Bank (CMB)** [3968.HK]\n",
        "<br/>\n",
        "<br/>\n",
        "So, our Analysis get reduced to 6 banks now.\n"
      ]
    },
    {
      "cell_type": "code",
      "metadata": {
        "id": "C6ZQbeAbdln9"
      },
      "source": [
        ""
      ],
      "execution_count": null,
      "outputs": []
    }
  ]
}