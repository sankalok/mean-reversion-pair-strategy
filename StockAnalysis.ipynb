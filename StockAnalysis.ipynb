{
  "nbformat": 4,
  "nbformat_minor": 0,
  "metadata": {
    "colab": {
      "name": "StockAnalysis.ipynb",
      "provenance": [],
      "toc_visible": true
    },
    "kernelspec": {
      "name": "python3",
      "display_name": "Python 3"
    },
    "language_info": {
      "name": "python"
    }
  },
  "cells": [
    {
      "cell_type": "markdown",
      "metadata": {
        "id": "jBifedGsuuKI"
      },
      "source": [
        "# **Project Idea:**\n",
        "The main project idea is to carry out **Analysis of Stock Prices** for some of the largest banks in **Mainland China** listed on the **Hong Kong Stock Exchange (HKEX)**, and trying to figure out various strategies based on available historical data on these prices and implement statistical models and try to tell a story surrounding this data as well as aim to learn more about the volatility of the market and so, how accurate our predictive modeling power would be based on our available historical data."
      ]
    },
    {
      "cell_type": "markdown",
      "metadata": {
        "id": "K-MmHUWGwWO_"
      },
      "source": [
        "# **Historical Data Collection:**\n",
        "Owned by Verizon Media, Yahoo! Finance is a part of the Yahoo! network. It aids in providing financial news and data like stock prices listings, reports, press releases, and other unique and important sources of news and data outputs. \n",
        "<br/> However, Yahoo! Finance has long since decomissioned their historical data API. So, we shall be using the Python package ```yfinance``` to help us get our historical data for relevant stocks listed on the HKEX.\n",
        "We can install the package on Google Colaboratory using ```!pip install yfinance```. So, now we install the package for our usage.\n",
        "\n",
        "\n"
      ]
    },
    {
      "cell_type": "code",
      "metadata": {
        "colab": {
          "base_uri": "https://localhost:8080/"
        },
        "id": "IKOqiuYcyESc",
        "outputId": "b13f831b-f7d4-4586-e76a-17aaa5b6e11e"
      },
      "source": [
        "!pip install yfinance"
      ],
      "execution_count": 3,
      "outputs": [
        {
          "output_type": "stream",
          "text": [
            "Requirement already satisfied: yfinance in /usr/local/lib/python3.7/dist-packages (0.1.59)\n",
            "Requirement already satisfied: multitasking>=0.0.7 in /usr/local/lib/python3.7/dist-packages (from yfinance) (0.0.9)\n",
            "Requirement already satisfied: requests>=2.20 in /usr/local/lib/python3.7/dist-packages (from yfinance) (2.23.0)\n",
            "Requirement already satisfied: pandas>=0.24 in /usr/local/lib/python3.7/dist-packages (from yfinance) (1.1.5)\n",
            "Requirement already satisfied: numpy>=1.15 in /usr/local/lib/python3.7/dist-packages (from yfinance) (1.19.5)\n",
            "Requirement already satisfied: lxml>=4.5.1 in /usr/local/lib/python3.7/dist-packages (from yfinance) (4.6.3)\n",
            "Requirement already satisfied: urllib3!=1.25.0,!=1.25.1,<1.26,>=1.21.1 in /usr/local/lib/python3.7/dist-packages (from requests>=2.20->yfinance) (1.24.3)\n",
            "Requirement already satisfied: certifi>=2017.4.17 in /usr/local/lib/python3.7/dist-packages (from requests>=2.20->yfinance) (2020.12.5)\n",
            "Requirement already satisfied: idna<3,>=2.5 in /usr/local/lib/python3.7/dist-packages (from requests>=2.20->yfinance) (2.10)\n",
            "Requirement already satisfied: chardet<4,>=3.0.2 in /usr/local/lib/python3.7/dist-packages (from requests>=2.20->yfinance) (3.0.4)\n",
            "Requirement already satisfied: python-dateutil>=2.7.3 in /usr/local/lib/python3.7/dist-packages (from pandas>=0.24->yfinance) (2.8.1)\n",
            "Requirement already satisfied: pytz>=2017.2 in /usr/local/lib/python3.7/dist-packages (from pandas>=0.24->yfinance) (2018.9)\n",
            "Requirement already satisfied: six>=1.5 in /usr/local/lib/python3.7/dist-packages (from python-dateutil>=2.7.3->pandas>=0.24->yfinance) (1.15.0)\n"
          ],
          "name": "stdout"
        }
      ]
    },
    {
      "cell_type": "markdown",
      "metadata": {
        "id": "nbb-d0kXyZqG"
      },
      "source": [
        "## **Importing the Package:**\n",
        "So, now we import the package for our usage and implement the ```Ticker``` module for the stocks we need and require for further indepth analysis.\n"
      ]
    },
    {
      "cell_type": "code",
      "metadata": {
        "id": "ymi46P9ny7zL"
      },
      "source": [
        "import yfinance as yf"
      ],
      "execution_count": 4,
      "outputs": []
    },
    {
      "cell_type": "markdown",
      "metadata": {
        "id": "ggDvVIQszFp3"
      },
      "source": [
        "## **Implementation of the Ticker Module:**\n",
        "We now implement the ```Ticker``` module to access the Ticker data for the listed stocks in HKEX. In depth, we look at the following institutions or banks:\n",
        "<br/>\n",
        "<br/>1. **Industrial and Commercial Bank of China (ICBC)**  [1398.HK]\n",
        "<br/>2. **China Construction Bank (CCB)** [0939.HK]\n",
        "<br/>3. **Agricultural Bank of China (ABC)** [1288.HK]\n",
        "<br/>4. **Bank of China (BOC)** [3988.HK]\n",
        "<br/>5. **China Development Bank (CDB)** [1062.HK]\n",
        "<br/>6. **Postal Savings Bank of China (PSBC)** [1658.HK]\n",
        "<br/>7. **Bank of Communications (BOCom)** [3329.HK]\n",
        "<br/>8. **China Merchants Bank (CMB)** [3968.HK]\n",
        "<br/>"
      ]
    },
    {
      "cell_type": "code",
      "metadata": {
        "id": "s3b6AdYCzk1C"
      },
      "source": [
        ""
      ],
      "execution_count": null,
      "outputs": []
    }
  ]
}